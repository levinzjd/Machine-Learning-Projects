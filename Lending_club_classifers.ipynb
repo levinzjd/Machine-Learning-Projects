{
 "cells": [
  {
   "cell_type": "code",
   "execution_count": 1,
   "metadata": {
    "collapsed": false
   },
   "outputs": [
    {
     "name": "stderr",
     "output_type": "stream",
     "text": [
      "C:\\Users\\levin\\Anaconda3\\lib\\site-packages\\IPython\\core\\interactiveshell.py:2723: DtypeWarning: Columns (19,55) have mixed types. Specify dtype option on import or set low_memory=False.\n",
      "  interactivity=interactivity, compiler=compiler, result=result)\n"
     ]
    }
   ],
   "source": [
    "import pandas as pd\n",
    "import numpy as np\n",
    "import matplotlib.pyplot as plt\n",
    "import seaborn as sns\n",
    "%matplotlib inline\n",
    "df = pd.read_csv('C:/Users/levin/Desktop/loan/loan.csv')"
   ]
  },
  {
   "cell_type": "code",
   "execution_count": 2,
   "metadata": {
    "collapsed": true
   },
   "outputs": [],
   "source": [
    "loans = df[(df['loan_status']=='Fully Paid')|(df['loan_status']=='Charged Off')|(df['loan_status']=='Default')]"
   ]
  },
  {
   "cell_type": "code",
   "execution_count": 3,
   "metadata": {
    "collapsed": false
   },
   "outputs": [
    {
     "name": "stderr",
     "output_type": "stream",
     "text": [
      "C:\\Users\\levin\\Anaconda3\\lib\\site-packages\\ipykernel\\__main__.py:6: SettingWithCopyWarning: \n",
      "A value is trying to be set on a copy of a slice from a DataFrame.\n",
      "Try using .loc[row_indexer,col_indexer] = value instead\n",
      "\n",
      "See the caveats in the documentation: http://pandas.pydata.org/pandas-docs/stable/indexing.html#indexing-view-versus-copy\n"
     ]
    },
    {
     "data": {
      "text/plain": [
       "1    207723\n",
       "0     46467\n",
       "Name: new_status, dtype: int64"
      ]
     },
     "execution_count": 3,
     "metadata": {},
     "output_type": "execute_result"
    }
   ],
   "source": [
    "def is_fully_paid(row):\n",
    "    if row['loan_status']  == 'Fully Paid':\n",
    "        return 1\n",
    "    else:\n",
    "        return 0\n",
    "loans['new_status'] = loans.apply(lambda x: is_fully_paid(x), axis=1)\n",
    "loans['new_status'].value_counts()"
   ]
  },
  {
   "cell_type": "markdown",
   "metadata": {},
   "source": [
    "Feature selection:\n",
    "features=['loan_amnt','funded_amnt','term','int_rate','installment','sub_grade','home_ownership','annual_inc','verification_status',         'delinq_2yrs','inq_last_6mths','open_acc','pub_rec','revol_bal','total_acc','out_prncp','total_pymnt','total_rec_prncp',\n",
    "   'total_rec_int','total_rec_late_fee','acc_now_delinq']\n",
    "categorical_features=['term','sub_grade','home_ownership','verification_status']"
   ]
  },
  {
   "cell_type": "markdown",
   "metadata": {},
   "source": [
    "## GET DUMMY VARIABLES for Categorical data\n",
    "---"
   ]
  },
  {
   "cell_type": "code",
   "execution_count": 10,
   "metadata": {
    "collapsed": true
   },
   "outputs": [],
   "source": [
    "variables = ['loan_amnt','funded_amnt','term','int_rate','installment','sub_grade','home_ownership','annual_inc','verification_status',\n",
    "         'delinq_2yrs','inq_last_6mths','open_acc','pub_rec','revol_bal','total_acc','out_prncp','total_pymnt','total_rec_prncp',\n",
    "         'total_rec_int','total_rec_late_fee','acc_now_delinq']\n",
    "loans_data = loans[variables]\n",
    "loans_target = loans['new_status']"
   ]
  },
  {
   "cell_type": "code",
   "execution_count": 11,
   "metadata": {
    "collapsed": true
   },
   "outputs": [],
   "source": [
    "def convert_categorical(df,col):\n",
    "    dummy = pd.get_dummies(df[col])\n",
    "    new_df = pd.concat([df,dummy],axis=1)\n",
    "    new_df.drop(col,axis=1,inplace=True)\n",
    "    return new_df\n",
    "\n",
    "for v in ['term','sub_grade','home_ownership','verification_status']:\n",
    "    loans_data = convert_categorical(loans_data,v)"
   ]
  },
  {
   "cell_type": "code",
   "execution_count": 12,
   "metadata": {
    "collapsed": false
   },
   "outputs": [
    {
     "name": "stdout",
     "output_type": "stream",
     "text": [
      "<class 'pandas.core.frame.DataFrame'>\n",
      "Int64Index: 254190 entries, 0 to 887371\n",
      "Data columns (total 63 columns):\n",
      "loan_amnt             254190 non-null float64\n",
      "funded_amnt           254190 non-null float64\n",
      "int_rate              254190 non-null float64\n",
      "installment           254190 non-null float64\n",
      "annual_inc            254190 non-null float64\n",
      "delinq_2yrs           254190 non-null float64\n",
      "inq_last_6mths        254190 non-null float64\n",
      "open_acc              254190 non-null float64\n",
      "pub_rec               254190 non-null float64\n",
      "revol_bal             254190 non-null float64\n",
      "total_acc             254190 non-null float64\n",
      "out_prncp             254190 non-null float64\n",
      "total_pymnt           254190 non-null float64\n",
      "total_rec_prncp       254190 non-null float64\n",
      "total_rec_int         254190 non-null float64\n",
      "total_rec_late_fee    254190 non-null float64\n",
      "acc_now_delinq        254190 non-null float64\n",
      " 36 months            254190 non-null float64\n",
      " 60 months            254190 non-null float64\n",
      "A1                    254190 non-null float64\n",
      "A2                    254190 non-null float64\n",
      "A3                    254190 non-null float64\n",
      "A4                    254190 non-null float64\n",
      "A5                    254190 non-null float64\n",
      "B1                    254190 non-null float64\n",
      "B2                    254190 non-null float64\n",
      "B3                    254190 non-null float64\n",
      "B4                    254190 non-null float64\n",
      "B5                    254190 non-null float64\n",
      "C1                    254190 non-null float64\n",
      "C2                    254190 non-null float64\n",
      "C3                    254190 non-null float64\n",
      "C4                    254190 non-null float64\n",
      "C5                    254190 non-null float64\n",
      "D1                    254190 non-null float64\n",
      "D2                    254190 non-null float64\n",
      "D3                    254190 non-null float64\n",
      "D4                    254190 non-null float64\n",
      "D5                    254190 non-null float64\n",
      "E1                    254190 non-null float64\n",
      "E2                    254190 non-null float64\n",
      "E3                    254190 non-null float64\n",
      "E4                    254190 non-null float64\n",
      "E5                    254190 non-null float64\n",
      "F1                    254190 non-null float64\n",
      "F2                    254190 non-null float64\n",
      "F3                    254190 non-null float64\n",
      "F4                    254190 non-null float64\n",
      "F5                    254190 non-null float64\n",
      "G1                    254190 non-null float64\n",
      "G2                    254190 non-null float64\n",
      "G3                    254190 non-null float64\n",
      "G4                    254190 non-null float64\n",
      "G5                    254190 non-null float64\n",
      "ANY                   254190 non-null float64\n",
      "MORTGAGE              254190 non-null float64\n",
      "NONE                  254190 non-null float64\n",
      "OTHER                 254190 non-null float64\n",
      "OWN                   254190 non-null float64\n",
      "RENT                  254190 non-null float64\n",
      "Not Verified          254190 non-null float64\n",
      "Source Verified       254190 non-null float64\n",
      "Verified              254190 non-null float64\n",
      "dtypes: float64(63)\n",
      "memory usage: 124.1 MB\n"
     ]
    }
   ],
   "source": [
    "loans_data.info()"
   ]
  },
  {
   "cell_type": "markdown",
   "metadata": {},
   "source": [
    "## Split data into train set and test set\n",
    "---"
   ]
  },
  {
   "cell_type": "code",
   "execution_count": 13,
   "metadata": {
    "collapsed": true
   },
   "outputs": [],
   "source": [
    "from sklearn.cross_validation import train_test_split\n",
    "x_train,x_test,y_train,y_test = train_test_split(loans_data,loans_target,test_size=.2,random_state=1)"
   ]
  },
  {
   "cell_type": "code",
   "execution_count": 14,
   "metadata": {
    "collapsed": false
   },
   "outputs": [
    {
     "name": "stdout",
     "output_type": "stream",
     "text": [
      "203352 203352\n"
     ]
    }
   ],
   "source": [
    "print(len(x_train),len(y_train))"
   ]
  },
  {
   "cell_type": "code",
   "execution_count": null,
   "metadata": {
    "collapsed": false
   },
   "outputs": [],
   "source": [
    "'''\n",
    "from sklearn import preprocessing\n",
    "variables=['loan_amnt','funded_amnt','term','int_rate','installment','sub_grade','home_ownership','annual_inc','verification_status',\n",
    "         'delinq_2yrs','inq_last_6mths','open_acc','pub_rec','revol_bal','total_acc','out_prncp','total_pymnt','total_rec_prncp',\n",
    "         'total_rec_int','total_rec_late_fee','acc_now_delinq','new_status']\n",
    "features=['loan_amnt','funded_amnt','term','int_rate','installment','sub_grade','home_ownership','annual_inc','verification_status',\n",
    "         'delinq_2yrs','inq_last_6mths','open_acc','pub_rec','revol_bal','total_acc','out_prncp','total_pymnt','total_rec_prncp',\n",
    "         'total_rec_int','total_rec_late_fee','acc_now_delinq']\n",
    "cate_features=['term','sub_grade','home_ownership','verification_status']\n",
    "\n",
    "for f in cate_features:\n",
    "    le = preprocessing.LabelEncoder()\n",
    "    loans[f] = le.fit_transform(loans[f])\n",
    "\n",
    "from sklearn.cross_validation import train_test_split\n",
    "train,test =train_test_split(loans[variables] , test_size = .2)\n",
    "train.shape\n",
    "'''"
   ]
  },
  {
   "cell_type": "code",
   "execution_count": 15,
   "metadata": {
    "collapsed": false
   },
   "outputs": [
    {
     "name": "stdout",
     "output_type": "stream",
     "text": [
      "Random Forest Train accuracy is:0.9883354970691215\n",
      "Random Forest Test accuracy is:0.9873323104764152\n"
     ]
    }
   ],
   "source": [
    "from sklearn.ensemble import RandomForestClassifier\n",
    "rfc = RandomForestClassifier(n_estimators = 150, min_samples_leaf = 50 , random_state = 1)\n",
    "rfc.fit(x_train,y_train)\n",
    "pred = rfc.predict(x_test)\n",
    "\n",
    "train_pred = rfc.predict(x_train)\n",
    "train_acc = sum(train_pred == y_train)/x_train.shape[0]\n",
    "test_acc = sum(pred == y_test)/x_test.shape[0]\n",
    "print('Random Forest Train accuracy is:{0}'.format(train_acc))\n",
    "print('Random Forest Test accuracy is:{0}'.format(test_acc))"
   ]
  },
  {
   "cell_type": "markdown",
   "metadata": {},
   "source": [
    "The test accuracy using Random Forest classifier is around **98.7%**  \n",
    "The train accuracy is around **98.8%**  \n",
    "No obvious overfitting here"
   ]
  },
  {
   "cell_type": "markdown",
   "metadata": {},
   "source": [
    "## Normalize numeric data before fit in SVM\n",
    "---"
   ]
  },
  {
   "cell_type": "code",
   "execution_count": 17,
   "metadata": {
    "collapsed": true
   },
   "outputs": [],
   "source": [
    "numeric_var = ['loan_amnt','funded_amnt','int_rate','installment','annual_inc','delinq_2yrs','inq_last_6mths','open_acc','pub_rec',\n",
    "               'revol_bal','total_acc','out_prncp','total_pymnt','total_rec_prncp',\n",
    "               'total_rec_int','total_rec_late_fee','acc_now_delinq']\n"
   ]
  },
  {
   "cell_type": "code",
   "execution_count": 18,
   "metadata": {
    "collapsed": false
   },
   "outputs": [],
   "source": [
    "def normalize(col):\n",
    "    mean_ = col.mean()\n",
    "    std = col.std()\n",
    "    new_col = (col-mean_)/std\n",
    "    return new_col\n",
    "\n",
    "loans_data_norm = loans_data\n",
    "\n",
    "for var in numeric_var:\n",
    "    loans_data_norm[var] = normalize(loans_data_norm[var])"
   ]
  },
  {
   "cell_type": "code",
   "execution_count": 19,
   "metadata": {
    "collapsed": false
   },
   "outputs": [
    {
     "data": {
      "text/html": [
       "<div>\n",
       "<table border=\"1\" class=\"dataframe\">\n",
       "  <thead>\n",
       "    <tr style=\"text-align: right;\">\n",
       "      <th></th>\n",
       "      <th>loan_amnt</th>\n",
       "      <th>funded_amnt</th>\n",
       "      <th>int_rate</th>\n",
       "      <th>installment</th>\n",
       "      <th>annual_inc</th>\n",
       "      <th>delinq_2yrs</th>\n",
       "      <th>inq_last_6mths</th>\n",
       "      <th>open_acc</th>\n",
       "      <th>pub_rec</th>\n",
       "      <th>revol_bal</th>\n",
       "      <th>...</th>\n",
       "      <th>G5</th>\n",
       "      <th>ANY</th>\n",
       "      <th>MORTGAGE</th>\n",
       "      <th>NONE</th>\n",
       "      <th>OTHER</th>\n",
       "      <th>OWN</th>\n",
       "      <th>RENT</th>\n",
       "      <th>Not Verified</th>\n",
       "      <th>Source Verified</th>\n",
       "      <th>Verified</th>\n",
       "    </tr>\n",
       "  </thead>\n",
       "  <tbody>\n",
       "    <tr>\n",
       "      <th>count</th>\n",
       "      <td>2.541900e+05</td>\n",
       "      <td>2.541900e+05</td>\n",
       "      <td>2.541900e+05</td>\n",
       "      <td>2.541900e+05</td>\n",
       "      <td>2.541900e+05</td>\n",
       "      <td>2.541900e+05</td>\n",
       "      <td>2.541900e+05</td>\n",
       "      <td>2.541900e+05</td>\n",
       "      <td>2.541900e+05</td>\n",
       "      <td>2.541900e+05</td>\n",
       "      <td>...</td>\n",
       "      <td>254190.000000</td>\n",
       "      <td>254190.000000</td>\n",
       "      <td>254190.000000</td>\n",
       "      <td>254190.000000</td>\n",
       "      <td>254190.000000</td>\n",
       "      <td>254190.000000</td>\n",
       "      <td>254190.000000</td>\n",
       "      <td>254190.000000</td>\n",
       "      <td>254190.000000</td>\n",
       "      <td>254190.000000</td>\n",
       "    </tr>\n",
       "    <tr>\n",
       "      <th>mean</th>\n",
       "      <td>-3.859041e-14</td>\n",
       "      <td>-1.646997e-14</td>\n",
       "      <td>-6.960899e-12</td>\n",
       "      <td>-1.770681e-14</td>\n",
       "      <td>1.493934e-15</td>\n",
       "      <td>-8.127882e-14</td>\n",
       "      <td>2.517970e-14</td>\n",
       "      <td>3.665575e-14</td>\n",
       "      <td>-3.089554e-13</td>\n",
       "      <td>-6.601097e-16</td>\n",
       "      <td>...</td>\n",
       "      <td>0.000751</td>\n",
       "      <td>0.000004</td>\n",
       "      <td>0.493104</td>\n",
       "      <td>0.000169</td>\n",
       "      <td>0.000555</td>\n",
       "      <td>0.086923</td>\n",
       "      <td>0.419245</td>\n",
       "      <td>0.339675</td>\n",
       "      <td>0.292982</td>\n",
       "      <td>0.367343</td>\n",
       "    </tr>\n",
       "    <tr>\n",
       "      <th>std</th>\n",
       "      <td>1.000000e+00</td>\n",
       "      <td>1.000000e+00</td>\n",
       "      <td>1.000000e+00</td>\n",
       "      <td>1.000000e+00</td>\n",
       "      <td>1.000000e+00</td>\n",
       "      <td>1.000000e+00</td>\n",
       "      <td>1.000000e+00</td>\n",
       "      <td>1.000000e+00</td>\n",
       "      <td>1.000000e+00</td>\n",
       "      <td>1.000000e+00</td>\n",
       "      <td>...</td>\n",
       "      <td>0.027402</td>\n",
       "      <td>0.001983</td>\n",
       "      <td>0.499953</td>\n",
       "      <td>0.013005</td>\n",
       "      <td>0.023546</td>\n",
       "      <td>0.281723</td>\n",
       "      <td>0.493437</td>\n",
       "      <td>0.473600</td>\n",
       "      <td>0.455131</td>\n",
       "      <td>0.482082</td>\n",
       "    </tr>\n",
       "    <tr>\n",
       "      <th>min</th>\n",
       "      <td>-1.607029e+00</td>\n",
       "      <td>-1.606482e+00</td>\n",
       "      <td>-1.920037e+00</td>\n",
       "      <td>-1.643783e+00</td>\n",
       "      <td>-1.182444e+00</td>\n",
       "      <td>-3.374685e-01</td>\n",
       "      <td>-7.989103e-01</td>\n",
       "      <td>-2.236600e+00</td>\n",
       "      <td>-3.291058e-01</td>\n",
       "      <td>-8.092215e-01</td>\n",
       "      <td>...</td>\n",
       "      <td>0.000000</td>\n",
       "      <td>0.000000</td>\n",
       "      <td>0.000000</td>\n",
       "      <td>0.000000</td>\n",
       "      <td>0.000000</td>\n",
       "      <td>0.000000</td>\n",
       "      <td>0.000000</td>\n",
       "      <td>0.000000</td>\n",
       "      <td>0.000000</td>\n",
       "      <td>0.000000</td>\n",
       "    </tr>\n",
       "    <tr>\n",
       "      <th>25%</th>\n",
       "      <td>-7.771167e-01</td>\n",
       "      <td>-7.804456e-01</td>\n",
       "      <td>-6.893627e-01</td>\n",
       "      <td>-7.297019e-01</td>\n",
       "      <td>-4.679817e-01</td>\n",
       "      <td>-3.374685e-01</td>\n",
       "      <td>-7.989103e-01</td>\n",
       "      <td>-8.060560e-01</td>\n",
       "      <td>-3.291058e-01</td>\n",
       "      <td>-4.964738e-01</td>\n",
       "      <td>...</td>\n",
       "      <td>0.000000</td>\n",
       "      <td>0.000000</td>\n",
       "      <td>0.000000</td>\n",
       "      <td>0.000000</td>\n",
       "      <td>0.000000</td>\n",
       "      <td>0.000000</td>\n",
       "      <td>0.000000</td>\n",
       "      <td>0.000000</td>\n",
       "      <td>0.000000</td>\n",
       "      <td>0.000000</td>\n",
       "    </tr>\n",
       "    <tr>\n",
       "      <th>50%</th>\n",
       "      <td>-1.931042e-01</td>\n",
       "      <td>-1.886582e-01</td>\n",
       "      <td>-5.586032e-02</td>\n",
       "      <td>-2.165801e-01</td>\n",
       "      <td>-1.787945e-01</td>\n",
       "      <td>-3.374685e-01</td>\n",
       "      <td>1.382191e-01</td>\n",
       "      <td>-1.929655e-01</td>\n",
       "      <td>-3.291058e-01</td>\n",
       "      <td>-2.257601e-01</td>\n",
       "      <td>...</td>\n",
       "      <td>0.000000</td>\n",
       "      <td>0.000000</td>\n",
       "      <td>0.000000</td>\n",
       "      <td>0.000000</td>\n",
       "      <td>0.000000</td>\n",
       "      <td>0.000000</td>\n",
       "      <td>0.000000</td>\n",
       "      <td>0.000000</td>\n",
       "      <td>0.000000</td>\n",
       "      <td>0.000000</td>\n",
       "    </tr>\n",
       "    <tr>\n",
       "      <th>75%</th>\n",
       "      <td>5.753334e-01</td>\n",
       "      <td>5.664872e-01</td>\n",
       "      <td>6.298662e-01</td>\n",
       "      <td>5.278487e-01</td>\n",
       "      <td>2.464809e-01</td>\n",
       "      <td>-3.374685e-01</td>\n",
       "      <td>1.382191e-01</td>\n",
       "      <td>6.244885e-01</td>\n",
       "      <td>-3.291058e-01</td>\n",
       "      <td>2.079552e-01</td>\n",
       "      <td>...</td>\n",
       "      <td>0.000000</td>\n",
       "      <td>0.000000</td>\n",
       "      <td>1.000000</td>\n",
       "      <td>0.000000</td>\n",
       "      <td>0.000000</td>\n",
       "      <td>0.000000</td>\n",
       "      <td>1.000000</td>\n",
       "      <td>1.000000</td>\n",
       "      <td>1.000000</td>\n",
       "      <td>1.000000</td>\n",
       "    </tr>\n",
       "    <tr>\n",
       "      <th>max</th>\n",
       "      <td>2.634746e+00</td>\n",
       "      <td>2.646990e+00</td>\n",
       "      <td>3.454515e+00</td>\n",
       "      <td>4.108799e+00</td>\n",
       "      <td>1.468743e+02</td>\n",
       "      <td>3.872558e+01</td>\n",
       "      <td>6.698125e+00</td>\n",
       "      <td>1.329503e+01</td>\n",
       "      <td>3.400186e+01</td>\n",
       "      <td>9.236515e+01</td>\n",
       "      <td>...</td>\n",
       "      <td>1.000000</td>\n",
       "      <td>1.000000</td>\n",
       "      <td>1.000000</td>\n",
       "      <td>1.000000</td>\n",
       "      <td>1.000000</td>\n",
       "      <td>1.000000</td>\n",
       "      <td>1.000000</td>\n",
       "      <td>1.000000</td>\n",
       "      <td>1.000000</td>\n",
       "      <td>1.000000</td>\n",
       "    </tr>\n",
       "  </tbody>\n",
       "</table>\n",
       "<p>8 rows × 63 columns</p>\n",
       "</div>"
      ],
      "text/plain": [
       "          loan_amnt   funded_amnt      int_rate   installment    annual_inc  \\\n",
       "count  2.541900e+05  2.541900e+05  2.541900e+05  2.541900e+05  2.541900e+05   \n",
       "mean  -3.859041e-14 -1.646997e-14 -6.960899e-12 -1.770681e-14  1.493934e-15   \n",
       "std    1.000000e+00  1.000000e+00  1.000000e+00  1.000000e+00  1.000000e+00   \n",
       "min   -1.607029e+00 -1.606482e+00 -1.920037e+00 -1.643783e+00 -1.182444e+00   \n",
       "25%   -7.771167e-01 -7.804456e-01 -6.893627e-01 -7.297019e-01 -4.679817e-01   \n",
       "50%   -1.931042e-01 -1.886582e-01 -5.586032e-02 -2.165801e-01 -1.787945e-01   \n",
       "75%    5.753334e-01  5.664872e-01  6.298662e-01  5.278487e-01  2.464809e-01   \n",
       "max    2.634746e+00  2.646990e+00  3.454515e+00  4.108799e+00  1.468743e+02   \n",
       "\n",
       "        delinq_2yrs  inq_last_6mths      open_acc       pub_rec     revol_bal  \\\n",
       "count  2.541900e+05    2.541900e+05  2.541900e+05  2.541900e+05  2.541900e+05   \n",
       "mean  -8.127882e-14    2.517970e-14  3.665575e-14 -3.089554e-13 -6.601097e-16   \n",
       "std    1.000000e+00    1.000000e+00  1.000000e+00  1.000000e+00  1.000000e+00   \n",
       "min   -3.374685e-01   -7.989103e-01 -2.236600e+00 -3.291058e-01 -8.092215e-01   \n",
       "25%   -3.374685e-01   -7.989103e-01 -8.060560e-01 -3.291058e-01 -4.964738e-01   \n",
       "50%   -3.374685e-01    1.382191e-01 -1.929655e-01 -3.291058e-01 -2.257601e-01   \n",
       "75%   -3.374685e-01    1.382191e-01  6.244885e-01 -3.291058e-01  2.079552e-01   \n",
       "max    3.872558e+01    6.698125e+00  1.329503e+01  3.400186e+01  9.236515e+01   \n",
       "\n",
       "           ...                   G5            ANY       MORTGAGE  \\\n",
       "count      ...        254190.000000  254190.000000  254190.000000   \n",
       "mean       ...             0.000751       0.000004       0.493104   \n",
       "std        ...             0.027402       0.001983       0.499953   \n",
       "min        ...             0.000000       0.000000       0.000000   \n",
       "25%        ...             0.000000       0.000000       0.000000   \n",
       "50%        ...             0.000000       0.000000       0.000000   \n",
       "75%        ...             0.000000       0.000000       1.000000   \n",
       "max        ...             1.000000       1.000000       1.000000   \n",
       "\n",
       "                NONE          OTHER            OWN           RENT  \\\n",
       "count  254190.000000  254190.000000  254190.000000  254190.000000   \n",
       "mean        0.000169       0.000555       0.086923       0.419245   \n",
       "std         0.013005       0.023546       0.281723       0.493437   \n",
       "min         0.000000       0.000000       0.000000       0.000000   \n",
       "25%         0.000000       0.000000       0.000000       0.000000   \n",
       "50%         0.000000       0.000000       0.000000       0.000000   \n",
       "75%         0.000000       0.000000       0.000000       1.000000   \n",
       "max         1.000000       1.000000       1.000000       1.000000   \n",
       "\n",
       "        Not Verified  Source Verified       Verified  \n",
       "count  254190.000000    254190.000000  254190.000000  \n",
       "mean        0.339675         0.292982       0.367343  \n",
       "std         0.473600         0.455131       0.482082  \n",
       "min         0.000000         0.000000       0.000000  \n",
       "25%         0.000000         0.000000       0.000000  \n",
       "50%         0.000000         0.000000       0.000000  \n",
       "75%         1.000000         1.000000       1.000000  \n",
       "max         1.000000         1.000000       1.000000  \n",
       "\n",
       "[8 rows x 63 columns]"
      ]
     },
     "execution_count": 19,
     "metadata": {},
     "output_type": "execute_result"
    }
   ],
   "source": [
    "loans_data_norm.describe()"
   ]
  },
  {
   "cell_type": "markdown",
   "metadata": {},
   "source": [
    "## Split data into train set and test set for SVM\n",
    "---------"
   ]
  },
  {
   "cell_type": "code",
   "execution_count": 21,
   "metadata": {
    "collapsed": true
   },
   "outputs": [],
   "source": [
    "x_train_norm, x_test_norm, y_train, y_test = train_test_split(loans_data_norm,loans_target,test_size=.2,random_state=1)"
   ]
  },
  {
   "cell_type": "code",
   "execution_count": 23,
   "metadata": {
    "collapsed": false
   },
   "outputs": [
    {
     "name": "stdout",
     "output_type": "stream",
     "text": [
      "Linear SVC train accuracy:0.9885764585546245\n",
      "Linear SVC test accuracy:0.9877650576340533\n"
     ]
    }
   ],
   "source": [
    "from sklearn import svm\n",
    "lin_clf = svm.LinearSVC(random_state=1)\n",
    "lin_clf.fit(x_train_norm,y_train)\n",
    "\n",
    "linsvc_test_pred = lin_clf.predict(x_test_norm)\n",
    "linsvc_train_pred = lin_clf.predict(x_train_norm)\n",
    "train_acc_linsvc = sum(linsvc_train_pred == y_train)/x_train_norm.shape[0]\n",
    "test_acc_linsvc = sum(linsvc_test_pred == y_test)/x_test_norm.shape[0]\n",
    "print('Linear SVC train accuracy:{0}'.format(train_acc_linsvc))\n",
    "print('Linear SVC test accuracy:{0}'.format(test_acc_linsvc))"
   ]
  },
  {
   "cell_type": "markdown",
   "metadata": {},
   "source": [
    "The Linear kernel SVM classifer is doing a little better than Random Forest with less than **1%** accuracy increase"
   ]
  },
  {
   "cell_type": "markdown",
   "metadata": {},
   "source": [
    "## Using RBF kernel for SVM\n",
    "-----"
   ]
  },
  {
   "cell_type": "code",
   "execution_count": 24,
   "metadata": {
    "collapsed": false
   },
   "outputs": [
    {
     "name": "stdout",
     "output_type": "stream",
     "text": [
      "RBF kernal SVC train accuracy:0.9930022817577403\n",
      "RBF kernal SVC test accuracy:0.9924859357173768\n"
     ]
    }
   ],
   "source": [
    "rbf_clf = svm.SVC(random_state=1)\n",
    "rbf_clf.fit(x_train_norm,y_train)\n",
    "\n",
    "rbfsvc_test_pred = rbf_clf.predict(x_test_norm)\n",
    "rbfsvc_train_pred = rbf_clf.predict(x_train_norm)\n",
    "train_acc_rbfsvc = sum(rbfsvc_train_pred == y_train)/x_train_norm.shape[0]\n",
    "test_acc_rbfsvc = sum(rbfsvc_test_pred == y_test)/x_test_norm.shape[0]\n",
    "print('RBF kernal SVC train accuracy:{0}'.format(train_acc_rbfsvc))\n",
    "print('RBF kernal SVC test accuracy:{0}'.format(test_acc_rbfsvc))"
   ]
  },
  {
   "cell_type": "markdown",
   "metadata": {},
   "source": [
    "The RBF Kernel SVM classifer is doing best among three models with test accuracy around **99.2%**"
   ]
  },
  {
   "cell_type": "code",
   "execution_count": null,
   "metadata": {
    "collapsed": true
   },
   "outputs": [],
   "source": []
  }
 ],
 "metadata": {
  "kernelspec": {
   "display_name": "Python 3",
   "language": "python",
   "name": "python3"
  },
  "language_info": {
   "codemirror_mode": {
    "name": "ipython",
    "version": 3
   },
   "file_extension": ".py",
   "mimetype": "text/x-python",
   "name": "python",
   "nbconvert_exporter": "python",
   "pygments_lexer": "ipython3",
   "version": "3.5.1"
  }
 },
 "nbformat": 4,
 "nbformat_minor": 0
}

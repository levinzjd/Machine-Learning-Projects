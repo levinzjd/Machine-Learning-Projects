{
 "cells": [
  {
   "cell_type": "markdown",
   "metadata": {},
   "source": [
    "## Load trainning data for testing neural work from Kaggle digit recognizer dataset"
   ]
  },
  {
   "cell_type": "code",
   "execution_count": 2,
   "metadata": {
    "collapsed": false
   },
   "outputs": [
    {
     "data": {
      "text/plain": [
       "42001"
      ]
     },
     "execution_count": 2,
     "metadata": {},
     "output_type": "execute_result"
    }
   ],
   "source": [
    "import pandas as pd\n",
    "import numpy as np\n",
    "import matplotlib.pyplot as plt\n",
    "import csv\n",
    "with open('C:/Users/levin/Desktop/Digit Recognizer/train.csv', 'r') as f:\n",
    "    reader = csv.reader(f)\n",
    "    df_list = list(reader)\n",
    "len(df_list)"
   ]
  },
  {
   "cell_type": "markdown",
   "metadata": {},
   "source": [
    "## Convert the datatype to float "
   ]
  },
  {
   "cell_type": "code",
   "execution_count": 11,
   "metadata": {
    "collapsed": false
   },
   "outputs": [],
   "source": [
    "df_array=np.array(df_list[1:]).astype(float)"
   ]
  },
  {
   "cell_type": "code",
   "execution_count": 4,
   "metadata": {
    "collapsed": false
   },
   "outputs": [
    {
     "data": {
      "text/plain": [
       "2"
      ]
     },
     "execution_count": 4,
     "metadata": {},
     "output_type": "execute_result"
    }
   ],
   "source": [
    "df = [[d[1:]/255 for d in df_array],[d[0] for d in df_array]]\n",
    "len(df)"
   ]
  },
  {
   "cell_type": "markdown",
   "metadata": {},
   "source": [
    "## Split data into training data and testing data"
   ]
  },
  {
   "cell_type": "code",
   "execution_count": 5,
   "metadata": {
    "collapsed": false
   },
   "outputs": [],
   "source": [
    "from sklearn.cross_validation import train_test_split\n",
    "train_x,test_x,train_y,test_y = train_test_split(df[0],df[1],test_size=.2,random_state = 1)"
   ]
  },
  {
   "cell_type": "markdown",
   "metadata": {},
   "source": [
    "## Neural Network Class"
   ]
  },
  {
   "cell_type": "code",
   "execution_count": 6,
   "metadata": {
    "collapsed": false
   },
   "outputs": [],
   "source": [
    "# This network with sigmoid activation function and cross-entropy cost function is based on the code from Neuralnetwork and \n",
    "# Deeplearning book\n",
    "class network(object):\n",
    "    \n",
    "    def __init__(self,size):\n",
    "        self.size=size\n",
    "        self.layer=len(size)\n",
    "        self.w=[np.random.randn(x,y) for x,y in list(zip(size[1:],size[:-1]))]\n",
    "        self.b=[np.random.randn(y,1) for y in size[1:]]\n",
    "\n",
    "    def feedforward(self,x):\n",
    "        a=[np.zeros((s,1)) for s in self.size]\n",
    "        a[0]=x\n",
    "        for i in range(self.layer-1):\n",
    "            z=np.dot(self.w[i],a[i])+self.b[i]\n",
    "            y=self.sigmoid(z)\n",
    "            a[i+1]=y\n",
    "        return a\n",
    "\n",
    "    def sigmoid(self,x):\n",
    "        y=1.0/(1.0+np.exp(-x))\n",
    "        return y\n",
    "\n",
    "    def sigmoid_prime(self,x):\n",
    "        y=x*(1-x)\n",
    "        return y\n",
    "    \n",
    "    def backpropagation(self,x,y):\n",
    "        a=self.feedforward(x)\n",
    "        rho=[np.zeros(u.shape) for u in a]\n",
    "        rho[-1]=a[-1]-y\n",
    "        for l in range(1,self.layer):\n",
    "            rho[-l-1]=np.dot(self.w[-l].T,rho[-l])*self.sigmoid_prime(a[-l-1]) #compute sigmoid_prime on every element in a[-l-1]\n",
    "        w_drv=[np.zeros(t2.shape) for t2 in self.w]\n",
    "        b_drv=[np.zeros(t3.shape) for t3 in self.b]\n",
    "        for l in range(1,self.layer):\n",
    "            w_drv[-l]=np.dot(rho[-l],a[-l-1].T)\n",
    "            b_drv[-l]=rho[-l]\n",
    "        return w_drv,b_drv\n",
    "    \n",
    "    def test(self,x,y):\n",
    "        a=self.feedforward(x)\n",
    "        rho=[np.zeros(u.shape) for u in a]\n",
    "        print (a[-1])\n",
    "        print (y)\n",
    "        rho[-1]=a[-1]-y\n",
    "        print (rho[-1])\n",
    "  \n",
    " \n",
    "\n",
    "    def update_mini_batch(self,mini_batch,alpha):\n",
    "        del_w=[np.zeros(w.shape) for w in self.w]\n",
    "        del_b=[np.zeros(b.shape) for b in self.b]\n",
    "        for x,y in mini_batch:\n",
    "            w_,b_=self.backpropagation(x,y)\n",
    "            del_w=[dw+dw_ for dw,dw_ in list(zip(del_w,w_))]\n",
    "            del_b=[db+db_ for db,db_ in list(zip(del_b,b_))]\n",
    "        self.w=[w-alpha*dw/len(mini_batch) for w,dw in list(zip(self.w,del_w))]\n",
    "        self.b=[b-alpha*db/len(mini_batch) for b,db in list(zip(self.b,del_b))]\n",
    "    \n",
    "    def evaluate(self,test_data):\n",
    "        result=[(np.argmax(self.feedforward(x)[-1]),y) for x,y in test_data]\n",
    "        return sum((x==y) for x,y in result)\n",
    "        \n",
    "    def SGD(self,training_data,epoch,batch_size,alpha,test_data=None):\n",
    "        if test_data: \n",
    "            n_test=len(test_data)\n",
    "            test_accuracy=[]\n",
    "        n=len(training_data)\n",
    "        for j in range(epoch):        \n",
    "            np.random.shuffle(training_data)\n",
    "            mini_batches=[training_data[k:k+batch_size] for k in range(0,n,batch_size)]\n",
    "            for mini_batch in mini_batches:\n",
    "                self.update_mini_batch(mini_batch,alpha)\n",
    "            if test_data:\n",
    "                ptg=float(self.evaluate(test_data))/n_test\n",
    "                test_accuracy.append(ptg)\n",
    "                print (\"Epoch {0} test accuracy: {1}/{2}\".format(j,self.evaluate(test_data),n_test))\n",
    "            else:\n",
    "                print (\"Epoch {0} completed\".format(j))\n",
    "        if test_data:\n",
    "            plt.plot(range(epoch),test_accuracy)\n",
    "            plt.xlabel('Epoch')\n",
    "            plt.ylabel('Accuracy')\n",
    "            plt.title('Testing accuracy by Neural Network')\n",
    "            plt.show()\n",
    "        return (self.w,self.b)\n",
    "        \n",
    "        "
   ]
  },
  {
   "cell_type": "code",
   "execution_count": 7,
   "metadata": {
    "collapsed": true
   },
   "outputs": [],
   "source": [
    "def vectorized(x):\n",
    "    y = np.zeros((10,1))\n",
    "    y[x] = 1.0\n",
    "    return y"
   ]
  },
  {
   "cell_type": "markdown",
   "metadata": {},
   "source": [
    "## Reshape data for convenient matrix calculation"
   ]
  },
  {
   "cell_type": "code",
   "execution_count": 8,
   "metadata": {
    "collapsed": false
   },
   "outputs": [
    {
     "name": "stderr",
     "output_type": "stream",
     "text": [
      "C:\\Users\\levin\\Anaconda3\\lib\\site-packages\\ipykernel\\__main__.py:3: DeprecationWarning: using a non-integer number instead of an integer will result in an error in the future\n",
      "  app.launch_new_instance()\n"
     ]
    }
   ],
   "source": [
    "tr_x = [np.reshape(x,(784,1)) for x in train_x]\n",
    "tr_y = [vectorized(y) for y in train_y]\n",
    "train_data = list(zip(tr_x,tr_y))\n",
    "te_x = [np.reshape(x,(784,1)) for x in test_x]\n",
    "test_data = list(zip(te_x,test_y))"
   ]
  },
  {
   "cell_type": "markdown",
   "metadata": {},
   "source": [
    "## Initiate neural network with one hidden layer and 100 hidden units"
   ]
  },
  {
   "cell_type": "code",
   "execution_count": 9,
   "metadata": {
    "collapsed": false
   },
   "outputs": [],
   "source": [
    "nnet = network([784,100,10])"
   ]
  },
  {
   "cell_type": "markdown",
   "metadata": {},
   "source": [
    "## Run 50 epochs and plot the learning curve"
   ]
  },
  {
   "cell_type": "code",
   "execution_count": 10,
   "metadata": {
    "collapsed": false
   },
   "outputs": [
    {
     "name": "stdout",
     "output_type": "stream",
     "text": [
      "Epoch 0 test accuracy: 7729/8400\n",
      "Epoch 1 test accuracy: 7843/8400\n",
      "Epoch 2 test accuracy: 7926/8400\n",
      "Epoch 3 test accuracy: 7937/8400\n",
      "Epoch 4 test accuracy: 8018/8400\n",
      "Epoch 5 test accuracy: 8008/8400\n",
      "Epoch 6 test accuracy: 8023/8400\n",
      "Epoch 7 test accuracy: 8042/8400\n",
      "Epoch 8 test accuracy: 8051/8400\n",
      "Epoch 9 test accuracy: 8046/8400\n",
      "Epoch 10 test accuracy: 8055/8400\n",
      "Epoch 11 test accuracy: 8053/8400\n",
      "Epoch 12 test accuracy: 8078/8400\n",
      "Epoch 13 test accuracy: 8065/8400\n",
      "Epoch 14 test accuracy: 8059/8400\n",
      "Epoch 15 test accuracy: 8073/8400\n",
      "Epoch 16 test accuracy: 8076/8400\n",
      "Epoch 17 test accuracy: 8068/8400\n",
      "Epoch 18 test accuracy: 8076/8400\n",
      "Epoch 19 test accuracy: 8064/8400\n",
      "Epoch 20 test accuracy: 8073/8400\n",
      "Epoch 21 test accuracy: 8083/8400\n",
      "Epoch 22 test accuracy: 8081/8400\n",
      "Epoch 23 test accuracy: 8077/8400\n",
      "Epoch 24 test accuracy: 8083/8400\n",
      "Epoch 25 test accuracy: 8079/8400\n",
      "Epoch 26 test accuracy: 8084/8400\n",
      "Epoch 27 test accuracy: 8080/8400\n",
      "Epoch 28 test accuracy: 8071/8400\n",
      "Epoch 29 test accuracy: 8082/8400\n",
      "Epoch 30 test accuracy: 8078/8400\n",
      "Epoch 31 test accuracy: 8077/8400\n",
      "Epoch 32 test accuracy: 8080/8400\n",
      "Epoch 33 test accuracy: 8076/8400\n",
      "Epoch 34 test accuracy: 8078/8400\n",
      "Epoch 35 test accuracy: 8073/8400\n",
      "Epoch 36 test accuracy: 8079/8400\n",
      "Epoch 37 test accuracy: 8084/8400\n",
      "Epoch 38 test accuracy: 8078/8400\n",
      "Epoch 39 test accuracy: 8082/8400\n",
      "Epoch 40 test accuracy: 8081/8400\n",
      "Epoch 41 test accuracy: 8073/8400\n",
      "Epoch 42 test accuracy: 8077/8400\n",
      "Epoch 43 test accuracy: 8071/8400\n",
      "Epoch 44 test accuracy: 8078/8400\n",
      "Epoch 45 test accuracy: 8076/8400\n",
      "Epoch 46 test accuracy: 8078/8400\n",
      "Epoch 47 test accuracy: 8069/8400\n",
      "Epoch 48 test accuracy: 8078/8400\n",
      "Epoch 49 test accuracy: 8072/8400\n"
     ]
    },
    {
     "data": {
      "image/png": "[encoded data removed]",
      "text/plain": [
       "<matplotlib.figure.Figure at 0x261c46e8a58>"
      ]
     },
     "metadata": {},
     "output_type": "display_data"
    }
   ],
   "source": [
    "%matplotlib inline\n",
    "w,b = nnet.SGD(train_data,50,10,.5,test_data=test_data)"
   ]
  }
 ],
 "metadata": {
  "kernelspec": {
   "display_name": "Python 3",
   "language": "python",
   "name": "python3"
  },
  "language_info": {
   "codemirror_mode": {
    "name": "ipython",
    "version": 3
   },
   "file_extension": ".py",
   "mimetype": "text/x-python",
   "name": "python",
   "nbconvert_exporter": "python",
   "pygments_lexer": "ipython3",
   "version": "3.5.1"
  }
 },
 "nbformat": 4,
 "nbformat_minor": 0
}
